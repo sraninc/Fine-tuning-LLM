{
  "nbformat": 4,
  "nbformat_minor": 0,
  "metadata": {
    "colab": {
      "provenance": [],
      "collapsed_sections": [
        "1Rp80dTGpsDD",
        "0r2XnfwnqTCK",
        "Jo9HFdW0jput",
        "4XB-sFc3kO4A",
        "8lGyZnvk25q9"
      ]
    },
    "kernelspec": {
      "name": "python3",
      "display_name": "Python 3"
    },
    "language_info": {
      "name": "python"
    }
  },
  "cells": [
    {
      "cell_type": "markdown",
      "source": [
        "# Welcome To The Notebook"
      ],
      "metadata": {
        "id": "2AqPte8bet51"
      }
    },
    {
      "cell_type": "markdown",
      "source": [
        "### Task 1 - Set up the project environment"
      ],
      "metadata": {
        "id": "1Rp80dTGpsDD"
      }
    },
    {
      "cell_type": "code",
      "source": [
        "!pip install openai==1.7.2 python-dotenv"
      ],
      "metadata": {
        "id": "lx4wV2MIUJ8A",
        "colab": {
          "base_uri": "https://localhost:8080/"
        },
        "outputId": "492c495f-c61b-4bf6-c9f1-5d808fc80445"
      },
      "execution_count": 1,
      "outputs": [
        {
          "output_type": "stream",
          "name": "stdout",
          "text": [
            "Collecting openai==1.7.2\n",
            "  Downloading openai-1.7.2-py3-none-any.whl (212 kB)\n",
            "\u001b[2K     \u001b[90m━━━━━━━━━━━━━━━━━━━━━━━━━━━━━━━━━━━━━━━━\u001b[0m \u001b[32m212.1/212.1 kB\u001b[0m \u001b[31m2.6 MB/s\u001b[0m eta \u001b[36m0:00:00\u001b[0m\n",
            "\u001b[?25hCollecting python-dotenv\n",
            "  Downloading python_dotenv-1.0.1-py3-none-any.whl (19 kB)\n",
            "Requirement already satisfied: anyio<5,>=3.5.0 in /usr/local/lib/python3.10/dist-packages (from openai==1.7.2) (3.7.1)\n",
            "Requirement already satisfied: distro<2,>=1.7.0 in /usr/lib/python3/dist-packages (from openai==1.7.2) (1.7.0)\n",
            "Collecting httpx<1,>=0.23.0 (from openai==1.7.2)\n",
            "  Downloading httpx-0.27.0-py3-none-any.whl (75 kB)\n",
            "\u001b[2K     \u001b[90m━━━━━━━━━━━━━━━━━━━━━━━━━━━━━━━━━━━━━━━━\u001b[0m \u001b[32m75.6/75.6 kB\u001b[0m \u001b[31m6.1 MB/s\u001b[0m eta \u001b[36m0:00:00\u001b[0m\n",
            "\u001b[?25hRequirement already satisfied: pydantic<3,>=1.9.0 in /usr/local/lib/python3.10/dist-packages (from openai==1.7.2) (2.7.3)\n",
            "Requirement already satisfied: sniffio in /usr/local/lib/python3.10/dist-packages (from openai==1.7.2) (1.3.1)\n",
            "Requirement already satisfied: tqdm>4 in /usr/local/lib/python3.10/dist-packages (from openai==1.7.2) (4.66.4)\n",
            "Requirement already satisfied: typing-extensions<5,>=4.7 in /usr/local/lib/python3.10/dist-packages (from openai==1.7.2) (4.12.2)\n",
            "Requirement already satisfied: idna>=2.8 in /usr/local/lib/python3.10/dist-packages (from anyio<5,>=3.5.0->openai==1.7.2) (3.7)\n",
            "Requirement already satisfied: exceptiongroup in /usr/local/lib/python3.10/dist-packages (from anyio<5,>=3.5.0->openai==1.7.2) (1.2.1)\n",
            "Requirement already satisfied: certifi in /usr/local/lib/python3.10/dist-packages (from httpx<1,>=0.23.0->openai==1.7.2) (2024.6.2)\n",
            "Collecting httpcore==1.* (from httpx<1,>=0.23.0->openai==1.7.2)\n",
            "  Downloading httpcore-1.0.5-py3-none-any.whl (77 kB)\n",
            "\u001b[2K     \u001b[90m━━━━━━━━━━━━━━━━━━━━━━━━━━━━━━━━━━━━━━━━\u001b[0m \u001b[32m77.9/77.9 kB\u001b[0m \u001b[31m6.3 MB/s\u001b[0m eta \u001b[36m0:00:00\u001b[0m\n",
            "\u001b[?25hCollecting h11<0.15,>=0.13 (from httpcore==1.*->httpx<1,>=0.23.0->openai==1.7.2)\n",
            "  Downloading h11-0.14.0-py3-none-any.whl (58 kB)\n",
            "\u001b[2K     \u001b[90m━━━━━━━━━━━━━━━━━━━━━━━━━━━━━━━━━━━━━━━━\u001b[0m \u001b[32m58.3/58.3 kB\u001b[0m \u001b[31m5.9 MB/s\u001b[0m eta \u001b[36m0:00:00\u001b[0m\n",
            "\u001b[?25hRequirement already satisfied: annotated-types>=0.4.0 in /usr/local/lib/python3.10/dist-packages (from pydantic<3,>=1.9.0->openai==1.7.2) (0.7.0)\n",
            "Requirement already satisfied: pydantic-core==2.18.4 in /usr/local/lib/python3.10/dist-packages (from pydantic<3,>=1.9.0->openai==1.7.2) (2.18.4)\n",
            "Installing collected packages: python-dotenv, h11, httpcore, httpx, openai\n",
            "Successfully installed h11-0.14.0 httpcore-1.0.5 httpx-0.27.0 openai-1.7.2 python-dotenv-1.0.1\n"
          ]
        }
      ]
    },
    {
      "cell_type": "markdown",
      "source": [
        "Importing modules"
      ],
      "metadata": {
        "id": "qypdUNULptjB"
      }
    },
    {
      "cell_type": "code",
      "execution_count": 2,
      "metadata": {
        "id": "YFmEp0r5T2eI",
        "colab": {
          "base_uri": "https://localhost:8080/"
        },
        "outputId": "0874a354-fb15-4269-f359-2b9844cfc176"
      },
      "outputs": [
        {
          "output_type": "stream",
          "name": "stdout",
          "text": [
            "Modules are imported.\n"
          ]
        }
      ],
      "source": [
        "import pandas as pd\n",
        "import os, time\n",
        "from openai import OpenAI\n",
        "from dotenv import load_dotenv\n",
        "import json\n",
        "import matplotlib.pyplot as plt\n",
        "\n",
        "print(\"Modules are imported.\")"
      ]
    },
    {
      "cell_type": "markdown",
      "source": [
        "Setting up the OpenAI API:\n",
        "\n",
        "* Prepare a .env file to store the OpenAI API key.\n",
        "* Uploading the .env file to our colab environment\n",
        "* Load the API key and setup the API"
      ],
      "metadata": {
        "id": "XfVAcV_XqDja"
      }
    },
    {
      "cell_type": "code",
      "source": [
        "load_dotenv('apikey.env.txt')\n",
        "\n",
        "APIKEY = os.getenv('APIKEY')\n",
        "ORGID = os.getenv(\"ORGID\")"
      ],
      "metadata": {
        "id": "rbXC4QM4qCBe"
      },
      "execution_count": 3,
      "outputs": []
    },
    {
      "cell_type": "markdown",
      "source": [
        "Creating OpenAI Client"
      ],
      "metadata": {
        "id": "rWxipGQIpxH8"
      }
    },
    {
      "cell_type": "code",
      "source": [
        "client = OpenAI(\n",
        "    api_key = APIKEY,\n",
        "    organization = ORGID\n",
        ")\n",
        "\n",
        "client"
      ],
      "metadata": {
        "id": "nHj-RaA5p0WE",
        "colab": {
          "base_uri": "https://localhost:8080/"
        },
        "outputId": "8f7f7e45-3dd3-419c-a2a4-e40bd782d8ed"
      },
      "execution_count": 4,
      "outputs": [
        {
          "output_type": "execute_result",
          "data": {
            "text/plain": [
              "<openai.OpenAI at 0x7a2d2c713580>"
            ]
          },
          "metadata": {},
          "execution_count": 4
        }
      ]
    },
    {
      "cell_type": "markdown",
      "source": [
        "### Task 2 - Prepare the training data"
      ],
      "metadata": {
        "id": "0r2XnfwnqTCK"
      }
    },
    {
      "cell_type": "markdown",
      "source": [
        "Loading the provided `Customer Complaints.csv`\n",
        "\n"
      ],
      "metadata": {
        "id": "-_Alc-CyuHmE"
      }
    },
    {
      "cell_type": "code",
      "source": [
        "training_data = pd.read_csv(\"Customer Complaints.csv\")\n",
        "training_data"
      ],
      "metadata": {
        "id": "jan2OKk5qW1J",
        "colab": {
          "base_uri": "https://localhost:8080/",
          "height": 699
        },
        "outputId": "a9e759f0-de90-47ed-9185-542c6bebd755"
      },
      "execution_count": 5,
      "outputs": [
        {
          "output_type": "execute_result",
          "data": {
            "text/plain": [
              "                                           Complaints  \\\n",
              "0    Unreliable internet! Sick of constant outages...   \n",
              "1    TV signal keeps dropping during crucial momen...   \n",
              "2    Phone line always crackling! Can't hear a thi...   \n",
              "3    Ridiculous prices for such terrible service! ...   \n",
              "4    Internet speed slower than a snail! Can't str...   \n",
              "..                                                ...   \n",
              "62  Poor call quality during international calls! ...   \n",
              "63  Incorrect charges on my bill every month! Unre...   \n",
              "64  This service is terrible! Can't believe I'm pa...   \n",
              "65  This product is a complete waste of money! Dis...   \n",
              "66                     I am utterly fed up with this!   \n",
              "\n",
              "                                              Details  \n",
              "0   {\"Topic\": \"Internet\", \"Problem\": \"Unreliable s...  \n",
              "1   {\"Topic\": \"TV\", \"Problem\": \"Signal dropout\", \"...  \n",
              "2   {\"Topic\": \"Phone\", \"Problem\": \"Crackling line\"...  \n",
              "3   {\"Topic\": \"Billing\", \"Problem\": \"Overcharged\",...  \n",
              "4   {\"Topic\": \"Internet\", \"Problem\": \"Slow speed\",...  \n",
              "..                                                ...  \n",
              "62  {\"Topic\": \"Phone\", \"Problem\": \"Poor call quali...  \n",
              "63  {\"Topic\": \"Billing\", \"Problem\": \"Incorrect cha...  \n",
              "64  {\"Topic\": \"PulseNet General\", \"Problem\": \"Gene...  \n",
              "65  {\"Topic\": \"PulseNet General\", \"Problem\": \"Gene...  \n",
              "66  {\"Topic\": \"PulseNet General\", \"Problem\": \"Gene...  \n",
              "\n",
              "[67 rows x 2 columns]"
            ],
            "text/html": [
              "\n",
              "  <div id=\"df-4f2c853b-6eb5-4b45-beb4-39c4d12656b8\" class=\"colab-df-container\">\n",
              "    <div>\n",
              "<style scoped>\n",
              "    .dataframe tbody tr th:only-of-type {\n",
              "        vertical-align: middle;\n",
              "    }\n",
              "\n",
              "    .dataframe tbody tr th {\n",
              "        vertical-align: top;\n",
              "    }\n",
              "\n",
              "    .dataframe thead th {\n",
              "        text-align: right;\n",
              "    }\n",
              "</style>\n",
              "<table border=\"1\" class=\"dataframe\">\n",
              "  <thead>\n",
              "    <tr style=\"text-align: right;\">\n",
              "      <th></th>\n",
              "      <th>Complaints</th>\n",
              "      <th>Details</th>\n",
              "    </tr>\n",
              "  </thead>\n",
              "  <tbody>\n",
              "    <tr>\n",
              "      <th>0</th>\n",
              "      <td>Unreliable internet! Sick of constant outages...</td>\n",
              "      <td>{\"Topic\": \"Internet\", \"Problem\": \"Unreliable s...</td>\n",
              "    </tr>\n",
              "    <tr>\n",
              "      <th>1</th>\n",
              "      <td>TV signal keeps dropping during crucial momen...</td>\n",
              "      <td>{\"Topic\": \"TV\", \"Problem\": \"Signal dropout\", \"...</td>\n",
              "    </tr>\n",
              "    <tr>\n",
              "      <th>2</th>\n",
              "      <td>Phone line always crackling! Can't hear a thi...</td>\n",
              "      <td>{\"Topic\": \"Phone\", \"Problem\": \"Crackling line\"...</td>\n",
              "    </tr>\n",
              "    <tr>\n",
              "      <th>3</th>\n",
              "      <td>Ridiculous prices for such terrible service! ...</td>\n",
              "      <td>{\"Topic\": \"Billing\", \"Problem\": \"Overcharged\",...</td>\n",
              "    </tr>\n",
              "    <tr>\n",
              "      <th>4</th>\n",
              "      <td>Internet speed slower than a snail! Can't str...</td>\n",
              "      <td>{\"Topic\": \"Internet\", \"Problem\": \"Slow speed\",...</td>\n",
              "    </tr>\n",
              "    <tr>\n",
              "      <th>...</th>\n",
              "      <td>...</td>\n",
              "      <td>...</td>\n",
              "    </tr>\n",
              "    <tr>\n",
              "      <th>62</th>\n",
              "      <td>Poor call quality during international calls! ...</td>\n",
              "      <td>{\"Topic\": \"Phone\", \"Problem\": \"Poor call quali...</td>\n",
              "    </tr>\n",
              "    <tr>\n",
              "      <th>63</th>\n",
              "      <td>Incorrect charges on my bill every month! Unre...</td>\n",
              "      <td>{\"Topic\": \"Billing\", \"Problem\": \"Incorrect cha...</td>\n",
              "    </tr>\n",
              "    <tr>\n",
              "      <th>64</th>\n",
              "      <td>This service is terrible! Can't believe I'm pa...</td>\n",
              "      <td>{\"Topic\": \"PulseNet General\", \"Problem\": \"Gene...</td>\n",
              "    </tr>\n",
              "    <tr>\n",
              "      <th>65</th>\n",
              "      <td>This product is a complete waste of money! Dis...</td>\n",
              "      <td>{\"Topic\": \"PulseNet General\", \"Problem\": \"Gene...</td>\n",
              "    </tr>\n",
              "    <tr>\n",
              "      <th>66</th>\n",
              "      <td>I am utterly fed up with this!</td>\n",
              "      <td>{\"Topic\": \"PulseNet General\", \"Problem\": \"Gene...</td>\n",
              "    </tr>\n",
              "  </tbody>\n",
              "</table>\n",
              "<p>67 rows × 2 columns</p>\n",
              "</div>\n",
              "    <div class=\"colab-df-buttons\">\n",
              "\n",
              "  <div class=\"colab-df-container\">\n",
              "    <button class=\"colab-df-convert\" onclick=\"convertToInteractive('df-4f2c853b-6eb5-4b45-beb4-39c4d12656b8')\"\n",
              "            title=\"Convert this dataframe to an interactive table.\"\n",
              "            style=\"display:none;\">\n",
              "\n",
              "  <svg xmlns=\"http://www.w3.org/2000/svg\" height=\"24px\" viewBox=\"0 -960 960 960\">\n",
              "    <path d=\"M120-120v-720h720v720H120Zm60-500h600v-160H180v160Zm220 220h160v-160H400v160Zm0 220h160v-160H400v160ZM180-400h160v-160H180v160Zm440 0h160v-160H620v160ZM180-180h160v-160H180v160Zm440 0h160v-160H620v160Z\"/>\n",
              "  </svg>\n",
              "    </button>\n",
              "\n",
              "  <style>\n",
              "    .colab-df-container {\n",
              "      display:flex;\n",
              "      gap: 12px;\n",
              "    }\n",
              "\n",
              "    .colab-df-convert {\n",
              "      background-color: #E8F0FE;\n",
              "      border: none;\n",
              "      border-radius: 50%;\n",
              "      cursor: pointer;\n",
              "      display: none;\n",
              "      fill: #1967D2;\n",
              "      height: 32px;\n",
              "      padding: 0 0 0 0;\n",
              "      width: 32px;\n",
              "    }\n",
              "\n",
              "    .colab-df-convert:hover {\n",
              "      background-color: #E2EBFA;\n",
              "      box-shadow: 0px 1px 2px rgba(60, 64, 67, 0.3), 0px 1px 3px 1px rgba(60, 64, 67, 0.15);\n",
              "      fill: #174EA6;\n",
              "    }\n",
              "\n",
              "    .colab-df-buttons div {\n",
              "      margin-bottom: 4px;\n",
              "    }\n",
              "\n",
              "    [theme=dark] .colab-df-convert {\n",
              "      background-color: #3B4455;\n",
              "      fill: #D2E3FC;\n",
              "    }\n",
              "\n",
              "    [theme=dark] .colab-df-convert:hover {\n",
              "      background-color: #434B5C;\n",
              "      box-shadow: 0px 1px 3px 1px rgba(0, 0, 0, 0.15);\n",
              "      filter: drop-shadow(0px 1px 2px rgba(0, 0, 0, 0.3));\n",
              "      fill: #FFFFFF;\n",
              "    }\n",
              "  </style>\n",
              "\n",
              "    <script>\n",
              "      const buttonEl =\n",
              "        document.querySelector('#df-4f2c853b-6eb5-4b45-beb4-39c4d12656b8 button.colab-df-convert');\n",
              "      buttonEl.style.display =\n",
              "        google.colab.kernel.accessAllowed ? 'block' : 'none';\n",
              "\n",
              "      async function convertToInteractive(key) {\n",
              "        const element = document.querySelector('#df-4f2c853b-6eb5-4b45-beb4-39c4d12656b8');\n",
              "        const dataTable =\n",
              "          await google.colab.kernel.invokeFunction('convertToInteractive',\n",
              "                                                    [key], {});\n",
              "        if (!dataTable) return;\n",
              "\n",
              "        const docLinkHtml = 'Like what you see? Visit the ' +\n",
              "          '<a target=\"_blank\" href=https://colab.research.google.com/notebooks/data_table.ipynb>data table notebook</a>'\n",
              "          + ' to learn more about interactive tables.';\n",
              "        element.innerHTML = '';\n",
              "        dataTable['output_type'] = 'display_data';\n",
              "        await google.colab.output.renderOutput(dataTable, element);\n",
              "        const docLink = document.createElement('div');\n",
              "        docLink.innerHTML = docLinkHtml;\n",
              "        element.appendChild(docLink);\n",
              "      }\n",
              "    </script>\n",
              "  </div>\n",
              "\n",
              "\n",
              "<div id=\"df-1b26e9dd-e9d0-4fc9-a3fb-899f8de16bad\">\n",
              "  <button class=\"colab-df-quickchart\" onclick=\"quickchart('df-1b26e9dd-e9d0-4fc9-a3fb-899f8de16bad')\"\n",
              "            title=\"Suggest charts\"\n",
              "            style=\"display:none;\">\n",
              "\n",
              "<svg xmlns=\"http://www.w3.org/2000/svg\" height=\"24px\"viewBox=\"0 0 24 24\"\n",
              "     width=\"24px\">\n",
              "    <g>\n",
              "        <path d=\"M19 3H5c-1.1 0-2 .9-2 2v14c0 1.1.9 2 2 2h14c1.1 0 2-.9 2-2V5c0-1.1-.9-2-2-2zM9 17H7v-7h2v7zm4 0h-2V7h2v10zm4 0h-2v-4h2v4z\"/>\n",
              "    </g>\n",
              "</svg>\n",
              "  </button>\n",
              "\n",
              "<style>\n",
              "  .colab-df-quickchart {\n",
              "      --bg-color: #E8F0FE;\n",
              "      --fill-color: #1967D2;\n",
              "      --hover-bg-color: #E2EBFA;\n",
              "      --hover-fill-color: #174EA6;\n",
              "      --disabled-fill-color: #AAA;\n",
              "      --disabled-bg-color: #DDD;\n",
              "  }\n",
              "\n",
              "  [theme=dark] .colab-df-quickchart {\n",
              "      --bg-color: #3B4455;\n",
              "      --fill-color: #D2E3FC;\n",
              "      --hover-bg-color: #434B5C;\n",
              "      --hover-fill-color: #FFFFFF;\n",
              "      --disabled-bg-color: #3B4455;\n",
              "      --disabled-fill-color: #666;\n",
              "  }\n",
              "\n",
              "  .colab-df-quickchart {\n",
              "    background-color: var(--bg-color);\n",
              "    border: none;\n",
              "    border-radius: 50%;\n",
              "    cursor: pointer;\n",
              "    display: none;\n",
              "    fill: var(--fill-color);\n",
              "    height: 32px;\n",
              "    padding: 0;\n",
              "    width: 32px;\n",
              "  }\n",
              "\n",
              "  .colab-df-quickchart:hover {\n",
              "    background-color: var(--hover-bg-color);\n",
              "    box-shadow: 0 1px 2px rgba(60, 64, 67, 0.3), 0 1px 3px 1px rgba(60, 64, 67, 0.15);\n",
              "    fill: var(--button-hover-fill-color);\n",
              "  }\n",
              "\n",
              "  .colab-df-quickchart-complete:disabled,\n",
              "  .colab-df-quickchart-complete:disabled:hover {\n",
              "    background-color: var(--disabled-bg-color);\n",
              "    fill: var(--disabled-fill-color);\n",
              "    box-shadow: none;\n",
              "  }\n",
              "\n",
              "  .colab-df-spinner {\n",
              "    border: 2px solid var(--fill-color);\n",
              "    border-color: transparent;\n",
              "    border-bottom-color: var(--fill-color);\n",
              "    animation:\n",
              "      spin 1s steps(1) infinite;\n",
              "  }\n",
              "\n",
              "  @keyframes spin {\n",
              "    0% {\n",
              "      border-color: transparent;\n",
              "      border-bottom-color: var(--fill-color);\n",
              "      border-left-color: var(--fill-color);\n",
              "    }\n",
              "    20% {\n",
              "      border-color: transparent;\n",
              "      border-left-color: var(--fill-color);\n",
              "      border-top-color: var(--fill-color);\n",
              "    }\n",
              "    30% {\n",
              "      border-color: transparent;\n",
              "      border-left-color: var(--fill-color);\n",
              "      border-top-color: var(--fill-color);\n",
              "      border-right-color: var(--fill-color);\n",
              "    }\n",
              "    40% {\n",
              "      border-color: transparent;\n",
              "      border-right-color: var(--fill-color);\n",
              "      border-top-color: var(--fill-color);\n",
              "    }\n",
              "    60% {\n",
              "      border-color: transparent;\n",
              "      border-right-color: var(--fill-color);\n",
              "    }\n",
              "    80% {\n",
              "      border-color: transparent;\n",
              "      border-right-color: var(--fill-color);\n",
              "      border-bottom-color: var(--fill-color);\n",
              "    }\n",
              "    90% {\n",
              "      border-color: transparent;\n",
              "      border-bottom-color: var(--fill-color);\n",
              "    }\n",
              "  }\n",
              "</style>\n",
              "\n",
              "  <script>\n",
              "    async function quickchart(key) {\n",
              "      const quickchartButtonEl =\n",
              "        document.querySelector('#' + key + ' button');\n",
              "      quickchartButtonEl.disabled = true;  // To prevent multiple clicks.\n",
              "      quickchartButtonEl.classList.add('colab-df-spinner');\n",
              "      try {\n",
              "        const charts = await google.colab.kernel.invokeFunction(\n",
              "            'suggestCharts', [key], {});\n",
              "      } catch (error) {\n",
              "        console.error('Error during call to suggestCharts:', error);\n",
              "      }\n",
              "      quickchartButtonEl.classList.remove('colab-df-spinner');\n",
              "      quickchartButtonEl.classList.add('colab-df-quickchart-complete');\n",
              "    }\n",
              "    (() => {\n",
              "      let quickchartButtonEl =\n",
              "        document.querySelector('#df-1b26e9dd-e9d0-4fc9-a3fb-899f8de16bad button');\n",
              "      quickchartButtonEl.style.display =\n",
              "        google.colab.kernel.accessAllowed ? 'block' : 'none';\n",
              "    })();\n",
              "  </script>\n",
              "</div>\n",
              "\n",
              "  <div id=\"id_3def7a46-9ec4-4e7e-bce2-5cdea4e2724f\">\n",
              "    <style>\n",
              "      .colab-df-generate {\n",
              "        background-color: #E8F0FE;\n",
              "        border: none;\n",
              "        border-radius: 50%;\n",
              "        cursor: pointer;\n",
              "        display: none;\n",
              "        fill: #1967D2;\n",
              "        height: 32px;\n",
              "        padding: 0 0 0 0;\n",
              "        width: 32px;\n",
              "      }\n",
              "\n",
              "      .colab-df-generate:hover {\n",
              "        background-color: #E2EBFA;\n",
              "        box-shadow: 0px 1px 2px rgba(60, 64, 67, 0.3), 0px 1px 3px 1px rgba(60, 64, 67, 0.15);\n",
              "        fill: #174EA6;\n",
              "      }\n",
              "\n",
              "      [theme=dark] .colab-df-generate {\n",
              "        background-color: #3B4455;\n",
              "        fill: #D2E3FC;\n",
              "      }\n",
              "\n",
              "      [theme=dark] .colab-df-generate:hover {\n",
              "        background-color: #434B5C;\n",
              "        box-shadow: 0px 1px 3px 1px rgba(0, 0, 0, 0.15);\n",
              "        filter: drop-shadow(0px 1px 2px rgba(0, 0, 0, 0.3));\n",
              "        fill: #FFFFFF;\n",
              "      }\n",
              "    </style>\n",
              "    <button class=\"colab-df-generate\" onclick=\"generateWithVariable('training_data')\"\n",
              "            title=\"Generate code using this dataframe.\"\n",
              "            style=\"display:none;\">\n",
              "\n",
              "  <svg xmlns=\"http://www.w3.org/2000/svg\" height=\"24px\"viewBox=\"0 0 24 24\"\n",
              "       width=\"24px\">\n",
              "    <path d=\"M7,19H8.4L18.45,9,17,7.55,7,17.6ZM5,21V16.75L18.45,3.32a2,2,0,0,1,2.83,0l1.4,1.43a1.91,1.91,0,0,1,.58,1.4,1.91,1.91,0,0,1-.58,1.4L9.25,21ZM18.45,9,17,7.55Zm-12,3A5.31,5.31,0,0,0,4.9,8.1,5.31,5.31,0,0,0,1,6.5,5.31,5.31,0,0,0,4.9,4.9,5.31,5.31,0,0,0,6.5,1,5.31,5.31,0,0,0,8.1,4.9,5.31,5.31,0,0,0,12,6.5,5.46,5.46,0,0,0,6.5,12Z\"/>\n",
              "  </svg>\n",
              "    </button>\n",
              "    <script>\n",
              "      (() => {\n",
              "      const buttonEl =\n",
              "        document.querySelector('#id_3def7a46-9ec4-4e7e-bce2-5cdea4e2724f button.colab-df-generate');\n",
              "      buttonEl.style.display =\n",
              "        google.colab.kernel.accessAllowed ? 'block' : 'none';\n",
              "\n",
              "      buttonEl.onclick = () => {\n",
              "        google.colab.notebook.generateWithVariable('training_data');\n",
              "      }\n",
              "      })();\n",
              "    </script>\n",
              "  </div>\n",
              "\n",
              "    </div>\n",
              "  </div>\n"
            ],
            "application/vnd.google.colaboratory.intrinsic+json": {
              "type": "dataframe",
              "variable_name": "training_data",
              "summary": "{\n  \"name\": \"training_data\",\n  \"rows\": 67,\n  \"fields\": [\n    {\n      \"column\": \"Complaints\",\n      \"properties\": {\n        \"dtype\": \"string\",\n        \"num_unique_values\": 67,\n        \"samples\": [\n          \" Phone plan changed without consent! Unacceptable manipulation. Furious!\",\n          \" Charged for services not used! Unacceptable billing. Furious!\",\n          \" Internet speed slower than a snail! Can't stream or download anything. Frustrating!\"\n        ],\n        \"semantic_type\": \"\",\n        \"description\": \"\"\n      }\n    },\n    {\n      \"column\": \"Details\",\n      \"properties\": {\n        \"dtype\": \"string\",\n        \"num_unique_values\": 55,\n        \"samples\": [\n          \"{\\\"Topic\\\": \\\"Internet\\\", \\\"Problem\\\": \\\"Throttling\\\", \\\"Customer_Dissatisfaction_Index\\\": 85}\",\n          \"{\\\"Topic\\\": \\\"TV\\\", \\\"Problem\\\": \\\"Channels freezing\\\", \\\"Customer_Dissatisfaction_Index\\\": 85}\",\n          \"{\\\"Topic\\\": \\\"TV\\\", \\\"Problem\\\": \\\"Remote malfunction\\\", \\\"Customer_Dissatisfaction_Index\\\": 80}\"\n        ],\n        \"semantic_type\": \"\",\n        \"description\": \"\"\n      }\n    }\n  ]\n}"
            }
          },
          "metadata": {},
          "execution_count": 5
        }
      ]
    },
    {
      "cell_type": "markdown",
      "source": [
        "**Converting the Complaints records to json**\n",
        "\n",
        "To be able to use the data for the fine-tuning purpose, we first need to convert each row of the dataframe into the following format:\n",
        "\n",
        "<pre>\n",
        "<code>\n",
        "{\n",
        "  <span style=\"color: blue;\">\"messages\"</span>: [\n",
        "    {\n",
        "      <span style=\"color: blue;\">\"role\"</span>: <span style=\"color: red;\">\"system\"</span>,\n",
        "      <span style=\"color: blue;\">\"content\"</span>: \"<span style=\"color: green;\">Providing context about the user's prompt.\n",
        "                  It may include information about the task,\n",
        "                  instructions, or background details relevant\n",
        "                  to the conversation.</span>\"\n",
        "    },\n",
        "    {\n",
        "      <span style=\"color: blue;\">\"role\"</span>: <span style=\"color: red;\">\"user\"</span>,\n",
        "      <span style=\"color: blue;\">\"content\"</span>: \"<span style=\"color: green;\">the prompt or input provided by the user,\n",
        "                  which typically initiates the conversation with the assistant.</span>\"\n",
        "    },\n",
        "    {\n",
        "      <span style=\"color: blue;\">\"role\"</span>: <span style=\"color: red;\">\"assistant\"</span>,\n",
        "      <span style=\"color: blue;\">\"content\"</span>: \"<span style=\"color: green;\">The desired response or output generated by\n",
        "                  the assistant in response to the user's prompt.</span>\"\n",
        "    }\n",
        "  ]\n",
        "}\n",
        "</code>\n",
        "</pre>\n",
        "\n",
        "Let's get started!"
      ],
      "metadata": {
        "id": "uIK863G-qvMN"
      }
    },
    {
      "cell_type": "markdown",
      "source": [
        "Let's define a method that get's a row of the dataframe and convert it into the json format"
      ],
      "metadata": {
        "id": "fWVCfuvRjdXa"
      }
    },
    {
      "cell_type": "code",
      "source": [
        "def save_as_json(row):\n",
        "\n",
        "  system_content = \"\"\"\n",
        "      Given a customer complaint text, extract and return the following information in json (dict) format:\n",
        "      - Topic: The product/department that the customer has a complaint about.\n",
        "      - Problem: A two or three-word description of what exactly the problem is.\n",
        "      - Customer_Dissatisfaction_Index: is a number between 0 and 100 showing\n",
        "             how angry the customer is about the problem.\n",
        "  \"\"\"\n",
        "\n",
        "  formatted_data = {\n",
        "        \"messages\": [\n",
        "            {\"role\": \"system\", \"content\": system_content},\n",
        "            {\"role\": \"user\", \"content\": row.Complaints},\n",
        "            {\"role\": \"assistant\", \"content\": row.Details}\n",
        "        ]\n",
        "      }\n",
        "\n",
        "  with open(\"training_data.json\", \"a\") as json_file:\n",
        "        json.dump(formatted_data, json_file)\n",
        "        json_file.write(\"\\n\")"
      ],
      "metadata": {
        "id": "-tHnvRamq5NK"
      },
      "execution_count": 7,
      "outputs": []
    },
    {
      "cell_type": "markdown",
      "source": [
        "Now let's use of this method to generate the `training_data.json`"
      ],
      "metadata": {
        "id": "K3haPgzI-ClF"
      }
    },
    {
      "cell_type": "code",
      "source": [
        "for index, row in training_data.iterrows():\n",
        "  save_as_json(row)"
      ],
      "metadata": {
        "id": "LNOMxwSX8dE4"
      },
      "execution_count": 8,
      "outputs": []
    },
    {
      "cell_type": "markdown",
      "source": [
        "### Task 3 - Fine-tune GPT 3.5 based on our training data"
      ],
      "metadata": {
        "id": "Jo9HFdW0jput"
      }
    },
    {
      "cell_type": "markdown",
      "source": [
        "Let's import the json file we prepared as our training data"
      ],
      "metadata": {
        "id": "h4TMhzSNj4hH"
      }
    },
    {
      "cell_type": "code",
      "source": [
        "data_file = client.files.create(\n",
        "    file = open(\"training_data.json\", 'rb'),\n",
        "    purpose = 'fine-tune',\n",
        ")\n",
        "\n",
        "data_file"
      ],
      "metadata": {
        "id": "ExJ2cRU5-XtH",
        "colab": {
          "base_uri": "https://localhost:8080/"
        },
        "outputId": "69adcc73-e2c6-4a22-9957-06dd7a9fbd15"
      },
      "execution_count": 11,
      "outputs": [
        {
          "output_type": "execute_result",
          "data": {
            "text/plain": [
              "FileObject(id='file-1Eg6FDC7Cu141fNJlt67uAZU', bytes=46722, created_at=1718236962, filename='training_data.json', object='file', purpose='fine-tune', status='processed', status_details=None)"
            ]
          },
          "metadata": {},
          "execution_count": 11
        }
      ]
    },
    {
      "cell_type": "markdown",
      "source": [
        "Create the Fine Tuning Job"
      ],
      "metadata": {
        "id": "TiBcO3I0kIU5"
      }
    },
    {
      "cell_type": "code",
      "source": [
        "fine_tuning_job = client.fine_tuning.jobs.create(\n",
        "    training_file = data_file.id,\n",
        "    model = 'gpt-3.5-turbo',\n",
        "    hyperparameters = {\n",
        "        \"n_epochs\": 1\n",
        "    }\n",
        ")\n",
        "\n",
        "fine_tuning_job"
      ],
      "metadata": {
        "id": "BXJB348zkMSx",
        "colab": {
          "base_uri": "https://localhost:8080/"
        },
        "outputId": "00284614-a019-4073-82f2-fbbccf5505c4"
      },
      "execution_count": 18,
      "outputs": [
        {
          "output_type": "execute_result",
          "data": {
            "text/plain": [
              "FineTuningJob(id='ftjob-uHGffpvVKO7KwVqcEoaMewBm', created_at=1718237526, error=Error(code=None, message=None, param=None), fine_tuned_model=None, finished_at=None, hyperparameters=Hyperparameters(n_epochs=1, batch_size='auto', learning_rate_multiplier='auto'), model='gpt-3.5-turbo-0125', object='fine_tuning.job', organization_id='org-KkpXu0zjG7LjnioA58mDxcBi', result_files=[], status='validating_files', trained_tokens=None, training_file='file-1Eg6FDC7Cu141fNJlt67uAZU', validation_file=None, user_provided_suffix=None, seed=1844360062, estimated_finish=None, integrations=[])"
            ]
          },
          "metadata": {},
          "execution_count": 18
        }
      ]
    },
    {
      "cell_type": "markdown",
      "source": [
        "Let's retrieve the state of the fine-tune"
      ],
      "metadata": {
        "id": "u7XWcO_7kzY6"
      }
    },
    {
      "cell_type": "code",
      "source": [
        "while True:\n",
        "  time.sleep(2)\n",
        "  retrieved_job = client.fine_tuning.jobs.retrieve(fine_tuning_job.id)\n",
        "  status = retrieved_job.status\n",
        "  print(status)\n",
        "\n",
        "  if(status == \"succeeded\"):\n",
        "    print(\"The job is done!\")\n",
        "    break"
      ],
      "metadata": {
        "id": "hpbHjWu3AS4k",
        "colab": {
          "base_uri": "https://localhost:8080/"
        },
        "outputId": "a769e9f2-e678-44ea-918d-45c4f50dd22a"
      },
      "execution_count": 20,
      "outputs": [
        {
          "output_type": "stream",
          "name": "stdout",
          "text": [
            "running\n",
            "running\n",
            "running\n",
            "running\n",
            "running\n",
            "running\n",
            "running\n",
            "running\n",
            "running\n",
            "running\n",
            "running\n",
            "running\n",
            "running\n",
            "running\n",
            "running\n",
            "running\n",
            "running\n",
            "running\n",
            "running\n",
            "running\n",
            "running\n",
            "running\n",
            "running\n",
            "running\n",
            "running\n",
            "running\n",
            "running\n",
            "running\n",
            "running\n",
            "running\n",
            "running\n",
            "running\n",
            "running\n",
            "running\n",
            "running\n",
            "running\n",
            "running\n",
            "running\n",
            "running\n",
            "running\n",
            "running\n",
            "running\n",
            "running\n",
            "running\n",
            "running\n",
            "running\n",
            "running\n",
            "running\n",
            "running\n",
            "running\n",
            "running\n",
            "running\n",
            "running\n",
            "running\n",
            "running\n",
            "running\n",
            "running\n",
            "running\n",
            "running\n",
            "running\n",
            "running\n",
            "running\n",
            "running\n",
            "running\n",
            "running\n",
            "running\n",
            "running\n",
            "running\n",
            "running\n",
            "running\n",
            "running\n",
            "running\n",
            "running\n",
            "succeeded\n",
            "The job is done!\n"
          ]
        }
      ]
    },
    {
      "cell_type": "markdown",
      "source": [
        "### Task 4 - Evaluate model"
      ],
      "metadata": {
        "id": "4XB-sFc3kO4A"
      }
    },
    {
      "cell_type": "markdown",
      "source": [
        "Let's retrieve the event messages to check out the learning process of our fine-tuning job."
      ],
      "metadata": {
        "id": "p_3bNsW3k_eR"
      }
    },
    {
      "cell_type": "code",
      "source": [
        "events = list(client.fine_tuning.jobs.list_events(fine_tuning_job_id = retrieved_job.id, limit=100).data)\n",
        "\n",
        "for e in events:\n",
        "  print(e.message)"
      ],
      "metadata": {
        "id": "O2bif68aIEGJ",
        "colab": {
          "base_uri": "https://localhost:8080/"
        },
        "outputId": "83328d4f-d809-4be2-8be2-2bf265b8af99"
      },
      "execution_count": 22,
      "outputs": [
        {
          "output_type": "stream",
          "name": "stdout",
          "text": [
            "The job has successfully completed\n",
            "New fine-tuned model created: ft:gpt-3.5-turbo-0125:personal::9ZSQowBA\n",
            "Step 67/67: training loss=0.07\n",
            "Step 66/67: training loss=0.13\n",
            "Step 65/67: training loss=0.07\n",
            "Step 64/67: training loss=0.09\n",
            "Step 63/67: training loss=0.35\n",
            "Step 62/67: training loss=0.76\n",
            "Step 61/67: training loss=0.10\n",
            "Step 60/67: training loss=0.15\n",
            "Step 59/67: training loss=0.12\n",
            "Step 58/67: training loss=0.08\n",
            "Step 57/67: training loss=0.08\n",
            "Step 56/67: training loss=0.09\n",
            "Step 55/67: training loss=0.31\n",
            "Step 54/67: training loss=0.08\n",
            "Step 53/67: training loss=0.18\n",
            "Step 52/67: training loss=0.09\n",
            "Step 51/67: training loss=0.11\n",
            "Step 50/67: training loss=0.10\n",
            "Step 49/67: training loss=0.13\n",
            "Step 48/67: training loss=0.31\n",
            "Step 47/67: training loss=0.33\n",
            "Step 46/67: training loss=0.22\n",
            "Step 45/67: training loss=0.04\n",
            "Step 44/67: training loss=0.14\n",
            "Step 43/67: training loss=0.06\n",
            "Step 42/67: training loss=0.42\n",
            "Step 41/67: training loss=0.08\n",
            "Step 40/67: training loss=0.11\n",
            "Step 39/67: training loss=0.21\n",
            "Step 38/67: training loss=0.08\n",
            "Step 37/67: training loss=0.31\n",
            "Step 36/67: training loss=0.09\n",
            "Step 35/67: training loss=0.20\n",
            "Step 34/67: training loss=0.11\n",
            "Step 33/67: training loss=0.88\n",
            "Step 32/67: training loss=0.69\n",
            "Step 31/67: training loss=0.17\n",
            "Step 30/67: training loss=0.32\n",
            "Step 29/67: training loss=0.10\n",
            "Step 28/67: training loss=0.38\n",
            "Step 27/67: training loss=0.21\n",
            "Step 26/67: training loss=0.09\n",
            "Step 25/67: training loss=0.17\n",
            "Step 24/67: training loss=0.14\n",
            "Step 23/67: training loss=0.17\n",
            "Step 22/67: training loss=0.97\n",
            "Step 21/67: training loss=0.14\n",
            "Step 20/67: training loss=0.17\n",
            "Step 19/67: training loss=1.41\n",
            "Step 18/67: training loss=0.24\n",
            "Step 17/67: training loss=1.30\n",
            "Step 16/67: training loss=1.39\n",
            "Step 15/67: training loss=0.12\n",
            "Step 14/67: training loss=0.25\n",
            "Step 13/67: training loss=0.11\n",
            "Step 12/67: training loss=1.73\n",
            "Step 11/67: training loss=1.06\n",
            "Step 10/67: training loss=0.15\n",
            "Step 9/67: training loss=0.14\n",
            "Step 8/67: training loss=0.10\n",
            "Step 7/67: training loss=1.57\n",
            "Step 6/67: training loss=1.08\n",
            "Step 5/67: training loss=0.49\n",
            "Step 4/67: training loss=0.75\n",
            "Step 3/67: training loss=1.14\n",
            "Step 2/67: training loss=4.19\n",
            "Step 1/67: training loss=0.91\n",
            "Fine-tuning job started\n",
            "Files validated, moving job to queued state\n",
            "Validating training file: file-1Eg6FDC7Cu141fNJlt67uAZU\n",
            "Created fine-tuning job: ftjob-uHGffpvVKO7KwVqcEoaMewBm\n"
          ]
        }
      ]
    },
    {
      "cell_type": "markdown",
      "source": [
        "Let's extract the training loss in each learning step"
      ],
      "metadata": {
        "id": "Pe3jUJJjyeO1"
      }
    },
    {
      "cell_type": "code",
      "source": [
        "steps = []\n",
        "train_loss = []\n",
        "\n",
        "for e in events:\n",
        "  if(e.data):\n",
        "    steps.append(e.data['step'])\n",
        "    train_loss.append(e.data['train_loss'])\n",
        "\n",
        "print(steps)\n",
        "print(train_loss)"
      ],
      "metadata": {
        "id": "oqhDoVBNzW_w",
        "colab": {
          "base_uri": "https://localhost:8080/"
        },
        "outputId": "50d413ff-4abd-47f7-87b6-897301c78470"
      },
      "execution_count": 24,
      "outputs": [
        {
          "output_type": "stream",
          "name": "stdout",
          "text": [
            "[67, 66, 65, 64, 63, 62, 61, 60, 59, 58, 57, 56, 55, 54, 53, 52, 51, 50, 49, 48, 47, 46, 45, 44, 43, 42, 41, 40, 39, 38, 37, 36, 35, 34, 33, 32, 31, 30, 29, 28, 27, 26, 25, 24, 23, 22, 21, 20, 19, 18, 17, 16, 15, 14, 13, 12, 11, 10, 9, 8, 7, 6, 5, 4, 3, 2, 1]\n",
            "[0.0672854632139206, 0.12992271780967712, 0.06895416229963303, 0.09142059087753296, 0.349048912525177, 0.7567789554595947, 0.1042248085141182, 0.15448635816574097, 0.12185180932283401, 0.08156687766313553, 0.07851127535104752, 0.09063060581684113, 0.3107573986053467, 0.0828564241528511, 0.1781209260225296, 0.09088031947612762, 0.1087590754032135, 0.09901764243841171, 0.1275472342967987, 0.3125206232070923, 0.3285839259624481, 0.22060218453407288, 0.04347097501158714, 0.13906551897525787, 0.06283092498779297, 0.4164009094238281, 0.08474995195865631, 0.10654755681753159, 0.20621927082538605, 0.08034904301166534, 0.3076995611190796, 0.09117603302001953, 0.19637396931648254, 0.10532432794570923, 0.8789677023887634, 0.6921511292457581, 0.1693902611732483, 0.3218456506729126, 0.09925884753465652, 0.38028672337532043, 0.20638003945350647, 0.0884542167186737, 0.1698639988899231, 0.13980437815189362, 0.17388977110385895, 0.9683266878128052, 0.1405041515827179, 0.1674802452325821, 1.41145920753479, 0.23575827479362488, 1.3034464120864868, 1.3889552354812622, 0.12314539402723312, 0.25236618518829346, 0.10579725354909897, 1.726928472518921, 1.0641342401504517, 0.15313254296779633, 0.13811570405960083, 0.09519683569669724, 1.5702635049819946, 1.0773420333862305, 0.48709237575531006, 0.7472632527351379, 1.1383192539215088, 4.191516876220703, 0.9064242243766785]\n"
          ]
        }
      ]
    },
    {
      "cell_type": "markdown",
      "source": [
        "Use a line chart to visualize the train_loss in each step"
      ],
      "metadata": {
        "id": "iiiJIUuq2W4D"
      }
    },
    {
      "cell_type": "code",
      "source": [
        "plt.plot(steps, train_loss, marker = 'o', linestyle = '-')"
      ],
      "metadata": {
        "id": "EMRvEd-F2bLO",
        "colab": {
          "base_uri": "https://localhost:8080/",
          "height": 447
        },
        "outputId": "f56ecedb-52b0-4762-d7db-3e9dc51dac3c"
      },
      "execution_count": 26,
      "outputs": [
        {
          "output_type": "execute_result",
          "data": {
            "text/plain": [
              "[<matplotlib.lines.Line2D at 0x7a2d27768610>]"
            ]
          },
          "metadata": {},
          "execution_count": 26
        },
        {
          "output_type": "display_data",
          "data": {
            "text/plain": [
              "<Figure size 640x480 with 1 Axes>"
            ],
            "image/png": "[encoded data removed]"
          },
          "metadata": {}
        }
      ]
    },
    {
      "cell_type": "markdown",
      "source": [
        "### Task 5 - Deploy our model"
      ],
      "metadata": {
        "id": "8lGyZnvk25q9"
      }
    },
    {
      "cell_type": "markdown",
      "source": [
        "Let's take a look at `retrieved_job` again"
      ],
      "metadata": {
        "id": "EYljL-wH42ce"
      }
    },
    {
      "cell_type": "code",
      "source": [
        "my_LLM = retrieved_job.fine_tuned_model\n",
        "print(my_LLM)"
      ],
      "metadata": {
        "id": "q4ChDCWo3H85",
        "colab": {
          "base_uri": "https://localhost:8080/"
        },
        "outputId": "f5c4aaae-a8f4-4edc-faf8-e8925f035535"
      },
      "execution_count": 28,
      "outputs": [
        {
          "output_type": "stream",
          "name": "stdout",
          "text": [
            "ft:gpt-3.5-turbo-0125:personal::9ZSQowBA\n"
          ]
        }
      ]
    },
    {
      "cell_type": "markdown",
      "source": [
        "Defining a method to extract information from a given user complaint using a specific LLM and return the results."
      ],
      "metadata": {
        "id": "nLLfuwC4-h9K"
      }
    },
    {
      "cell_type": "code",
      "source": [
        "def extract_details(user_complaint, model_name):\n",
        "    \"\"\"\n",
        "    This function extracts information from a given user complaint using a specific LLM (Large Language Model).\n",
        "\n",
        "    Parameters:\n",
        "    user_complaint (str): The text of the user's complaint.\n",
        "    model_name (str): The name of the specific LLM model to use for extraction.\n",
        "    \"\"\"\n",
        "\n",
        "    system_content = \"\"\"\n",
        "        Given a customer complaint text, extract and return the following information in JSON (dict) format:\n",
        "        - Topic\n",
        "        - Problem\n",
        "        - Customer_Dissatisfaction_Index\n",
        "    \"\"\"\n",
        "\n",
        "    # Generate a response using the specified model and the user's complaint\n",
        "    response = client.chat.completions.create(\n",
        "        model = model_name,\n",
        "        messages=[\n",
        "            {\"role\": \"system\", \"content\": system_content},  # System content explaining the expected output\n",
        "            {\"role\": \"user\", \"content\": user_complaint}  # User's complaint passed as content\n",
        "        ]\n",
        "    )\n",
        "\n",
        "    # Return the content of the generated response\n",
        "    return response.choices[0].message.content\n"
      ],
      "metadata": {
        "id": "P3_99_Hf5CV1"
      },
      "execution_count": 29,
      "outputs": []
    },
    {
      "cell_type": "markdown",
      "source": [
        "Let's use our fine-tuned model to extract the details for the following user complaint:\n",
        "\n",
        "*TV channels keep disappearing from my subscription! What's going on? Extremely annoyed with this service!*"
      ],
      "metadata": {
        "id": "zE_O2zAwplof"
      }
    },
    {
      "cell_type": "code",
      "source": [
        "complaint = \"TV channels keep disappearing from my subscription! What's going on? Extremely annoyed with this service!\"\n",
        "\n",
        "extract_details(complaint, my_LLM)"
      ],
      "metadata": {
        "id": "vD1dEjnzWTuw",
        "colab": {
          "base_uri": "https://localhost:8080/",
          "height": 36
        },
        "outputId": "2f5d7669-0d2b-4a53-9e57-3dc4d381d6cd"
      },
      "execution_count": 32,
      "outputs": [
        {
          "output_type": "execute_result",
          "data": {
            "text/plain": [
              "'{\"Topic\": \"TV\", \"Problem\": \"Missing channels\", \"Customer_Dissatisfaction_Index\": \"High\"}'"
            ],
            "application/vnd.google.colaboratory.intrinsic+json": {
              "type": "string"
            }
          },
          "metadata": {},
          "execution_count": 32
        }
      ]
    },
    {
      "cell_type": "markdown",
      "source": [
        "Let's test our `GPT-4` model with the same user complaint"
      ],
      "metadata": {
        "id": "LJNgLZoS6-gw"
      }
    },
    {
      "cell_type": "code",
      "source": [
        "extract_details(complaint, 'gpt-4')"
      ],
      "metadata": {
        "id": "G2XBuw0N47AC",
        "colab": {
          "base_uri": "https://localhost:8080/",
          "height": 36
        },
        "outputId": "b5824e6c-e0bf-4cfd-fb87-2d8defe7e0a6"
      },
      "execution_count": 33,
      "outputs": [
        {
          "output_type": "execute_result",
          "data": {
            "text/plain": [
              "'{\\n    \"Topic\": \"TV Subscription\",\\n    \"Problem\": \"TV channels disappearing from subscription\",\\n    \"Customer_Dissatisfaction_Index\": \"High\"\\n}'"
            ],
            "application/vnd.google.colaboratory.intrinsic+json": {
              "type": "string"
            }
          },
          "metadata": {},
          "execution_count": 33
        }
      ]
    },
    {
      "cell_type": "markdown",
      "source": [
        "Let's try for the following complaint:\n",
        "\n",
        "*Line is down! It is really annoying!*"
      ],
      "metadata": {
        "id": "J3xZBAUitpVq"
      }
    },
    {
      "cell_type": "code",
      "source": [
        "complaint = \"Line is down! It is really annoying!\"\n",
        "\n",
        "extract_details(complaint, my_LLM)"
      ],
      "metadata": {
        "id": "I3O6HzK_ttZ7",
        "colab": {
          "base_uri": "https://localhost:8080/",
          "height": 36
        },
        "outputId": "e31b5bfa-b6a3-4054-c9b8-ded90a7d6cde"
      },
      "execution_count": 34,
      "outputs": [
        {
          "output_type": "execute_result",
          "data": {
            "text/plain": [
              "'{\"Topic\": \"Network\", \"Problem\": \"Line down\", \"Customer_Dissatisfaction_Index\": 5}'"
            ],
            "application/vnd.google.colaboratory.intrinsic+json": {
              "type": "string"
            }
          },
          "metadata": {},
          "execution_count": 34
        }
      ]
    },
    {
      "cell_type": "markdown",
      "source": [
        "Now let's compare the results from GPT-4"
      ],
      "metadata": {
        "id": "W4zeLRZfuNmS"
      }
    },
    {
      "cell_type": "code",
      "source": [
        "extract_details(complaint, 'gpt-4')"
      ],
      "metadata": {
        "id": "6ubUkjXXuQ8X",
        "colab": {
          "base_uri": "https://localhost:8080/",
          "height": 36
        },
        "outputId": "8bb905a6-c1b1-41b9-ca26-4c2cbe1b0f41"
      },
      "execution_count": 35,
      "outputs": [
        {
          "output_type": "execute_result",
          "data": {
            "text/plain": [
              "'{\\n    \"Topic\": \"Service Interruption\",\\n    \"Problem\": \"Line is down\",\\n    \"Customer_Dissatisfaction_Index\": \"High\"\\n}'"
            ],
            "application/vnd.google.colaboratory.intrinsic+json": {
              "type": "string"
            }
          },
          "metadata": {},
          "execution_count": 35
        }
      ]
    },
    {
      "cell_type": "markdown",
      "source": [
        "We can see that our model, which is trained on our dataset, provides better answers compared to GPT-4. Our model is fine-tuned based on our data and is familiar with the different edge cases and the context of our dataset."
      ],
      "metadata": {
        "id": "YvqSymjWueXu"
      }
    },
    {
      "cell_type": "code",
      "source": [
        "customer_complaint = \"I am very Angry! I want my money back!\"\n",
        "\n",
        "extract_details(customer_complaint, my_LLM)"
      ],
      "metadata": {
        "id": "wVQQfAAXy-v8",
        "colab": {
          "base_uri": "https://localhost:8080/",
          "height": 36
        },
        "outputId": "1c57d026-c8ad-4241-be62-a5a1ccc254b7"
      },
      "execution_count": 36,
      "outputs": [
        {
          "output_type": "execute_result",
          "data": {
            "text/plain": [
              "'{\"Topic\": \"Billing\", \"Problem\": \"Refund\", \"Customer_Dissatisfaction_Index\": \"High\"}'"
            ],
            "application/vnd.google.colaboratory.intrinsic+json": {
              "type": "string"
            }
          },
          "metadata": {},
          "execution_count": 36
        }
      ]
    }
  ]
}